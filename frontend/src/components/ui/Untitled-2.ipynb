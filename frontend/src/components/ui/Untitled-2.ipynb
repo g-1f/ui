{
 "cells": [
  {
   "cell_type": "code",
   "execution_count": null,
   "metadata": {},
   "outputs": [],
   "source": [
    "import React from 'react';\n",
    "import { makeStyles, shorthands, tokens } from \"@fluentui/react-components\";\n",
    "\n",
    "const useStyles = makeStyles({\n",
    "  subgraphContainer: {\n",
    "    backgroundColor: tokens.colorNeutralBackground2,\n",
    "    borderRadius: tokens.borderRadiusMedium,\n",
    "    padding: \"16px\",\n",
    "    marginBottom: \"16px\",\n",
    "  },\n",
    "  subgraphTitle: {\n",
    "    fontSize: tokens.fontSizeBase400,\n",
    "    fontWeight: tokens.fontWeightSemibold,\n",
    "    marginBottom: \"8px\",\n",
    "  },\n",
    "  subgraphResult: {\n",
    "    fontSize: tokens.fontSizeBase300,\n",
    "    color: tokens.colorNeutralForeground1,\n",
    "    ...shorthands.padding(\"8px\"),\n",
    "    backgroundColor: tokens.colorNeutralBackground1,\n",
    "    borderRadius: tokens.borderRadiusSmall,\n",
    "    marginBottom: \"8px\",\n",
    "  },\n",
    "});\n",
    "\n",
    "const SubgraphResults = ({ results }) => {\n",
    "  const styles = useStyles();\n",
    "\n",
    "  if (!results || typeof results !== 'object') {\n",
    "    return null;\n",
    "  }\n",
    "\n",
    "  return (\n",
    "    <div className={styles.subgraphContainer}>\n",
    "      <div className={styles.subgraphTitle}>Subgraph Results:</div>\n",
    "      {Object.entries(results).map(([query, subgraphs]) => (\n",
    "        <div key={query}>\n",
    "          <div className={styles.subgraphTitle}>Query: {query}</div>\n",
    "          {Object.entries(subgraphs).map(([subgraph, result]) => (\n",
    "            <div key={subgraph} className={styles.subgraphResult}>\n",
    "              <strong>{subgraph}:</strong> {JSON.stringify(result)}\n",
    "            </div>\n",
    "          ))}\n",
    "        </div>\n",
    "      ))}\n",
    "    </div>\n",
    "  );\n",
    "};\n",
    "\n",
    "export default SubgraphResults;"
   ]
  }
 ],
 "metadata": {
  "kernelspec": {
   "display_name": "base_env",
   "language": "python",
   "name": "python3"
  },
  "language_info": {
   "codemirror_mode": {
    "name": "ipython",
    "version": 3
   },
   "file_extension": ".py",
   "mimetype": "text/x-python",
   "name": "python",
   "nbconvert_exporter": "python",
   "pygments_lexer": "ipython3",
   "version": "3.8.16"
  }
 },
 "nbformat": 4,
 "nbformat_minor": 2
}
