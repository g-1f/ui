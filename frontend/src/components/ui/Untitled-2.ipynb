{
 "cells": [
  {
   "cell_type": "code",
   "execution_count": 1,
   "metadata": {},
   "outputs": [
    {
     "ename": "SyntaxError",
     "evalue": "invalid syntax (2490503976.py, line 1)",
     "output_type": "error",
     "traceback": [
      "\u001b[0;36m  Input \u001b[0;32mIn [1]\u001b[0;36m\u001b[0m\n\u001b[0;31m    import React from 'react';\u001b[0m\n\u001b[0m                 ^\u001b[0m\n\u001b[0;31mSyntaxError\u001b[0m\u001b[0;31m:\u001b[0m invalid syntax\n"
     ]
    }
   ],
   "source": [
    "import React from 'react';\n",
    "import Highcharts from 'highcharts/highstock';\n",
    "import HighchartsReact from 'highcharts-react-official';\n",
    "\n",
    "const StockChart = ({ data }) => {\n",
    "  const options = {\n",
    "    title: {\n",
    "      text: 'Stock Price'\n",
    "    },\n",
    "    xAxis: {\n",
    "      type: 'datetime'\n",
    "    },\n",
    "    yAxis: {\n",
    "      title: {\n",
    "        text: 'Price'\n",
    "      }\n",
    "    },\n",
    "    series: [{\n",
    "      name: 'Stock Price',\n",
    "      data: data,\n",
    "      tooltip: {\n",
    "        valueDecimals: 2\n",
    "      }\n",
    "    }]\n",
    "  };\n",
    "\n",
    "  return (\n",
    "    <HighchartsReact\n",
    "      highcharts={Highcharts}\n",
    "      constructorType={'stockChart'}\n",
    "      options={options}\n",
    "    />\n",
    "  );\n",
    "};\n",
    "\n",
    "export default StockChart;"
   ]
  },
  {
   "cell_type": "code",
   "execution_count": null,
   "metadata": {},
   "outputs": [],
   "source": [
    "const handleUpdate = useCallback( callback: (data) : void => 3\n",
    "if (data.type === 'step') {\n",
    "setCurrentStep(data.content);\n",
    "} else if (data.type === 'subgraph_results') {\n",
    "// ... (no changes here)\n",
    "} else if (data.type === 'final') {\n",
    "finalResponseRef.current = data.content;\n",
    "setChatMlessages( value: prevMessages : any[) => {\n",
    "Check if the last message is already the final response\n",
    "const lastMessage = prevMessages [preMessages. length - 1];\n",
    "if (lastMessage &§ lastMessage.role === \"assistant\" && lastMessage.content === wrapInHtml(data.content)) {\n",
    "return prevMessages; / No need to add the final response again\n",
    "return [\n",
    "...prevMessages,\n",
    "{ role: \"assistant\", content: wrapInHtml(data.content) }\n",
    "];\n",
    "});\n",
    "console.log(\"Received final response:\", data.content);\n",
    "/ Show the chart after the first assistant message is added setShowChart ( value: true);\n",
    "}, deps: ID);"
   ]
  }
 ],
 "metadata": {
  "kernelspec": {
   "display_name": "base_env",
   "language": "python",
   "name": "python3"
  },
  "language_info": {
   "codemirror_mode": {
    "name": "ipython",
    "version": 3
   },
   "file_extension": ".py",
   "mimetype": "text/x-python",
   "name": "python",
   "nbconvert_exporter": "python",
   "pygments_lexer": "ipython3",
   "version": "3.8.16"
  }
 },
 "nbformat": 4,
 "nbformat_minor": 2
}
