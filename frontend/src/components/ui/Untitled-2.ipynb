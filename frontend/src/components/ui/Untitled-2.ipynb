{
 "cells": [
  {
   "cell_type": "code",
   "execution_count": null,
   "metadata": {},
   "outputs": [],
   "source": [
    "import React from 'react';\n",
    "import { makeStyles, tokens } from \"@fluentui/react-components\";\n",
    "\n",
    "const useStyles = makeStyles({\n",
    "  subgraphContainer: {\n",
    "    backgroundColor: tokens.colorNeutralBackground2,\n",
    "    borderRadius: tokens.borderRadiusMedium,\n",
    "    padding: \"16px\",\n",
    "    marginBottom: \"16px\",\n",
    "  },\n",
    "  subgraphTitle: {\n",
    "    fontSize: tokens.fontSizeBase400,\n",
    "    fontWeight: tokens.fontWeightSemibold,\n",
    "    marginBottom: \"8px\",\n",
    "  },\n",
    "  subgraphResult: {\n",
    "    fontSize: tokens.fontSizeBase300,\n",
    "    color: tokens.colorNeutralForeground1,\n",
    "    backgroundColor: tokens.colorNeutralBackground1,\n",
    "    borderRadius: tokens.borderRadiusSmall,\n",
    "    marginBottom: \"16px\",\n",
    "    overflow: \"auto\",\n",
    "  },\n",
    "});\n",
    "\n",
    "const SubgraphResults = ({ results }) => {\n",
    "  const styles = useStyles();\n",
    "\n",
    "  if (!results || typeof results !== 'object') {\n",
    "    return null;\n",
    "  }\n",
    "\n",
    "  // Extract subgraph results from the first (and only) query\n",
    "  const subgraphResults = Object.values(results)[0];\n",
    "\n",
    "  return (\n",
    "    <div className={styles.subgraphContainer}>\n",
    "      <div className={styles.subgraphTitle}>Subgraph Results:</div>\n",
    "      {Object.entries(subgraphResults).map(([subgraphName, result]) => (\n",
    "        <div key={subgraphName}>\n",
    "          <h3>{subgraphName}</h3>\n",
    "          <div \n",
    "            className={styles.subgraphResult}\n",
    "            dangerouslySetInnerHTML={{ __html: result }}\n",
    "          />\n",
    "        </div>\n",
    "      ))}\n",
    "    </div>\n",
    "  );\n",
    "};\n",
    "\n",
    "export default SubgraphResults;"
   ]
  }
 ],
 "metadata": {
  "kernelspec": {
   "display_name": "base_env",
   "language": "python",
   "name": "python3"
  },
  "language_info": {
   "codemirror_mode": {
    "name": "ipython",
    "version": 3
   },
   "file_extension": ".py",
   "mimetype": "text/x-python",
   "name": "python",
   "nbconvert_exporter": "python",
   "pygments_lexer": "ipython3",
   "version": "3.8.16"
  }
 },
 "nbformat": 4,
 "nbformat_minor": 2
}
