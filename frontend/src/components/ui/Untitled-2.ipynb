{
 "cells": [
  {
   "cell_type": "code",
   "execution_count": 3,
   "metadata": {},
   "outputs": [
    {
     "name": "stderr",
     "output_type": "stream",
     "text": [
      "INFO:numexpr.utils:NumExpr defaulting to 8 threads.\n"
     ]
    },
    {
     "ename": "ModuleNotFoundError",
     "evalue": "No module named 'langchain.schema.runnable'; 'langchain.schema' is not a package",
     "output_type": "error",
     "traceback": [
      "\u001b[0;31m---------------------------------------------------------------------------\u001b[0m",
      "\u001b[0;31mModuleNotFoundError\u001b[0m                       Traceback (most recent call last)",
      "Input \u001b[0;32mIn [3]\u001b[0m, in \u001b[0;36m<module>\u001b[0;34m\u001b[0m\n\u001b[1;32m      1\u001b[0m \u001b[38;5;28;01mimport\u001b[39;00m \u001b[38;5;21;01masyncio\u001b[39;00m\n\u001b[1;32m      2\u001b[0m \u001b[38;5;28;01mfrom\u001b[39;00m \u001b[38;5;21;01mtyping\u001b[39;00m \u001b[38;5;28;01mimport\u001b[39;00m Dict, Any, List, TypedDict\n\u001b[0;32m----> 3\u001b[0m \u001b[38;5;28;01mfrom\u001b[39;00m \u001b[38;5;21;01mlangchain\u001b[39;00m\u001b[38;5;21;01m.\u001b[39;00m\u001b[38;5;21;01mschema\u001b[39;00m\u001b[38;5;21;01m.\u001b[39;00m\u001b[38;5;21;01mrunnable\u001b[39;00m \u001b[38;5;28;01mimport\u001b[39;00m RunnablePassthrough, RunnableLambda, RunnableParallel\n\u001b[1;32m      4\u001b[0m \u001b[38;5;28;01mfrom\u001b[39;00m \u001b[38;5;21;01mlangchain\u001b[39;00m\u001b[38;5;21;01m.\u001b[39;00m\u001b[38;5;21;01mprompts\u001b[39;00m \u001b[38;5;28;01mimport\u001b[39;00m PromptTemplate, ChatPromptTemplate\n\u001b[1;32m      5\u001b[0m \u001b[38;5;28;01mfrom\u001b[39;00m \u001b[38;5;21;01mlangchain\u001b[39;00m\u001b[38;5;21;01m.\u001b[39;00m\u001b[38;5;21;01moutput_parsers\u001b[39;00m \u001b[38;5;28;01mimport\u001b[39;00m StrOutputParser\n",
      "\u001b[0;31mModuleNotFoundError\u001b[0m: No module named 'langchain.schema.runnable'; 'langchain.schema' is not a package"
     ]
    }
   ],
   "source": [
    "import json\n",
    "import re\n",
    "import logging\n",
    "from typing import Any, Dict, Optional\n",
    "\n",
    "logger = logging.getLogger(__name__)\n",
    "\n",
    "def parse_json_safely(text: str) -> Optional[Dict[str, Any]]:\n",
    "    \"\"\"\n",
    "    Attempts to parse JSON from the given text using multiple methods.\n",
    "    \n",
    "    Args:\n",
    "    text (str): The text to parse JSON from.\n",
    "    \n",
    "    Returns:\n",
    "    Optional[Dict[str, Any]]: Parsed JSON object or None if parsing fails.\n",
    "    \"\"\"\n",
    "    logger.debug(f\"Attempting to parse JSON from: {text}\")\n",
    "\n",
    "    # Method 1: Direct JSON parsing\n",
    "    try:\n",
    "        return json.loads(text)\n",
    "    except json.JSONDecodeError as e:\n",
    "        logger.debug(f\"Initial JSON parse failed: {e}\")\n",
    "\n",
    "    # Method 2: Regex-based JSON-like structure extraction\n",
    "    json_like_pattern = r'\\{(?:[^{}]|(?R))*\\}'\n",
    "    matches = re.findall(json_like_pattern, text)\n",
    "    for match in matches:\n",
    "        try:\n",
    "            return json.loads(match)\n",
    "        except json.JSONDecodeError:\n",
    "            continue\n",
    "\n",
    "    # Method 3: Line-by-line parsing\n",
    "    lines = text.split('\\n')\n",
    "    accumulated = \"\"\n",
    "    for line in lines:\n",
    "        accumulated += line\n",
    "        try:\n",
    "            return json.loads(accumulated)\n",
    "        except json.JSONDecodeError:\n",
    "            continue\n",
    "\n",
    "    # Method 4: Manual key-value extraction\n",
    "    manual_parse = {}\n",
    "    key_value_pattern = r'\"(\\w+)\"\\s*:\\s*([^,}\\s]+|\"[^\"]*\")'\n",
    "    matches = re.finditer(key_value_pattern, text)\n",
    "    for match in matches:\n",
    "        key, value = match.groups()\n",
    "        try:\n",
    "            parsed_value = json.loads(value)\n",
    "        except json.JSONDecodeError:\n",
    "            parsed_value = value.strip('\"')\n",
    "        manual_parse[key] = parsed_value\n",
    "\n",
    "    if manual_parse:\n",
    "        logger.info(f\"Manually parsed JSON: {manual_parse}\")\n",
    "        return manual_parse\n",
    "\n",
    "    logger.warning(\"Failed to parse any JSON-like structure\")\n",
    "    return None\n",
    "\n",
    "def safe_json_parser(func):\n",
    "    \"\"\"\n",
    "    Decorator to safely parse JSON output from a function.\n",
    "    \n",
    "    Args:\n",
    "    func: The function to decorate.\n",
    "    \n",
    "    Returns:\n",
    "    A wrapper function that safely parses JSON.\n",
    "    \"\"\"\n",
    "    async def wrapper(*args, **kwargs):\n",
    "        result = await func(*args, **kwargs)\n",
    "        if isinstance(result, str):\n",
    "            parsed = parse_json_safely(result)\n",
    "            if parsed is not None:\n",
    "                return parsed\n",
    "            else:\n",
    "                logger.warning(f\"Failed to parse JSON from function {func.__name__}\")\n",
    "                return result  # Return original string if parsing fails\n",
    "        return result\n",
    "    return wrapper\n"
   ]
  },
  {
   "cell_type": "code",
   "execution_count": null,
   "metadata": {},
   "outputs": [],
   "source": []
  }
 ],
 "metadata": {
  "kernelspec": {
   "display_name": "base_env",
   "language": "python",
   "name": "python3"
  },
  "language_info": {
   "codemirror_mode": {
    "name": "ipython",
    "version": 3
   },
   "file_extension": ".py",
   "mimetype": "text/x-python",
   "name": "python",
   "nbconvert_exporter": "python",
   "pygments_lexer": "ipython3",
   "version": "3.8.16"
  }
 },
 "nbformat": 4,
 "nbformat_minor": 2
}
