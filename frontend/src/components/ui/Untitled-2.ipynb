{
 "cells": [
  {
   "cell_type": "code",
   "execution_count": null,
   "metadata": {},
   "outputs": [],
   "source": [
    "graph TD\n",
    "    A[Initial Query] --> B[Preprocess Query]\n",
    "    B --> C{Graph DB Router}\n",
    "    C -->|Use Graph DB| D[Query Graph DB]\n",
    "    C -->|Skip Graph DB| E[Expand Queries]\n",
    "    D --> E\n",
    "    E --> F[Subgraph Router]\n",
    "    F --> G[Execute Subgraphs]\n",
    "    G --> H[Aggregate Results]\n",
    "    H --> I[Final Response]\n",
    "\n",
    "    subgraph \"Query Graph DB\"\n",
    "    D1[Connect to Neo4j] --> D2[Generate Cypher Query]\n",
    "    D2 --> D3[Execute Query]\n",
    "    D3 --> D4[Process Results]\n",
    "    end\n",
    "\n",
    "    subgraph \"Expand Queries\"\n",
    "    E1[Analyze Original Query] --> E2[Consider Graph DB Results]\n",
    "    E2 --> E3[Generate Expanded Queries]\n",
    "    end\n",
    "\n",
    "    subgraph \"Subgraph Router\"\n",
    "    F1[Analyze Each Query] --> F2[Determine Relevant Subgraphs]\n",
    "    F2 --> F3[Create Routing Map]\n",
    "    end\n",
    "\n",
    "    subgraph \"Execute Subgraphs\"\n",
    "    G1[ECT Subgraph] --> G3[Collect Results]\n",
    "    G2[AC Subgraph] --> G3\n",
    "    G4[... Other Subgraphs] --> G3\n",
    "    end\n",
    "\n",
    "    subgraph \"Aggregate Results\"\n",
    "    H1[Combine Subgraph Results] --> H2[Synthesize Information]\n",
    "    H2 --> H3[Generate Comprehensive Response]\n",
    "    end"
   ]
  }
 ],
 "metadata": {
  "kernelspec": {
   "display_name": "base_env",
   "language": "python",
   "name": "python3"
  },
  "language_info": {
   "codemirror_mode": {
    "name": "ipython",
    "version": 3
   },
   "file_extension": ".py",
   "mimetype": "text/x-python",
   "name": "python",
   "nbconvert_exporter": "python",
   "pygments_lexer": "ipython3",
   "version": "3.8.16"
  }
 },
 "nbformat": 4,
 "nbformat_minor": 2
}
