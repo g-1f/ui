{
 "cells": [
  {
   "cell_type": "code",
   "execution_count": null,
   "metadata": {},
   "outputs": [],
   "source": [
    "# Sample async generator function for streaming\n",
    "async def finance_agent_generator(query: str):\n",
    "    # Create the graph and initialize state (replace with your actual logic)\n",
    "    graph = create_finance_agent_graph()\n",
    "    initial_state = AgentState(\n",
    "        query=query,\n",
    "        processed_query=\"\",\n",
    "        use_graph_db=False,\n",
    "        graph_db_result=[],\n",
    "        expanded_queries=[],\n",
    "        subgraphs_to_execute=3,\n",
    "        subgraph_results={},\n",
    "        final_response=\"\"\n",
    "    )\n",
    "\n",
    "    current_state = initial_state\n",
    "\n",
    "    # Simulate streaming updates\n",
    "    async for chunk in graph.astream(current_state, stream_mode=\"updates\"):\n",
    "        for node, node_state in chunk.items():\n",
    "            if isinstance(node_state, dict):\n",
    "                if node_state[node].get(\"final_response\"):\n",
    "                    yield f\"data: {json.dumps({'type': 'final', 'content': node_state[node].get('final_response')})}\\n\\n\"\n",
    "                else:\n",
    "                    yield f\"data: {json.dumps({'type': 'step', 'content': node})}\\n\"\n",
    "            else:\n",
    "                print(f\"Unexpected state type for node {node}: {type(node_state[node])}.\")\n",
    "\n",
    "    yield \"data: [DONE]\\n\\n\""
   ]
  }
 ],
 "metadata": {
  "kernelspec": {
   "display_name": "base_env",
   "language": "python",
   "name": "python3"
  },
  "language_info": {
   "codemirror_mode": {
    "name": "ipython",
    "version": 3
   },
   "file_extension": ".py",
   "mimetype": "text/x-python",
   "name": "python",
   "nbconvert_exporter": "python",
   "pygments_lexer": "ipython3",
   "version": "3.8.16"
  }
 },
 "nbformat": 4,
 "nbformat_minor": 2
}
