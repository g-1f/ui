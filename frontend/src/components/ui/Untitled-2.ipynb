{
 "cells": [
  {
   "cell_type": "code",
   "execution_count": 1,
   "metadata": {},
   "outputs": [
    {
     "ename": "SyntaxError",
     "evalue": "invalid syntax (2490503976.py, line 1)",
     "output_type": "error",
     "traceback": [
      "\u001b[0;36m  Input \u001b[0;32mIn [1]\u001b[0;36m\u001b[0m\n\u001b[0;31m    import React from 'react';\u001b[0m\n\u001b[0m                 ^\u001b[0m\n\u001b[0;31mSyntaxError\u001b[0m\u001b[0;31m:\u001b[0m invalid syntax\n"
     ]
    }
   ],
   "source": [
    "import React from 'react';\n",
    "import Highcharts from 'highcharts/highstock';\n",
    "import HighchartsReact from 'highcharts-react-official';\n",
    "\n",
    "const StockChart = ({ data }) => {\n",
    "  const options = {\n",
    "    title: {\n",
    "      text: 'Stock Price'\n",
    "    },\n",
    "    xAxis: {\n",
    "      type: 'datetime'\n",
    "    },\n",
    "    yAxis: {\n",
    "      title: {\n",
    "        text: 'Price'\n",
    "      }\n",
    "    },\n",
    "    series: [{\n",
    "      name: 'Stock Price',\n",
    "      data: data,\n",
    "      tooltip: {\n",
    "        valueDecimals: 2\n",
    "      }\n",
    "    }]\n",
    "  };\n",
    "\n",
    "  return (\n",
    "    <HighchartsReact\n",
    "      highcharts={Highcharts}\n",
    "      constructorType={'stockChart'}\n",
    "      options={options}\n",
    "    />\n",
    "  );\n",
    "};\n",
    "\n",
    "export default StockChart;"
   ]
  },
  {
   "cell_type": "code",
   "execution_count": null,
   "metadata": {},
   "outputs": [],
   "source": [
    "if (isChatActive) {\n",
    "return (\n",
    "<div className={styles.chatPage}>\n",
    "‹div className=<styles.chatHeader}>\n",
    "<div className={styles.chatHeaderTitle}> ‹div className=<styles.iconWrapper}>\n",
    "<FluentIcons.Sparkle24Filled /> < div>\n",
    "<Text className={styles.chatHeaderText}>{userConfig.buttons[0].label}</Text> < div>\n",
    "<Text className={styles.chatHeaderDescription}>{userConfig.buttons[0].description}</Text> < div> ‹div className=styles.chatMessages≥>\n",
    "{chatMessages.map ((message, index : number ) => (\n",
    "<React.Fragment key={index}>\n",
    "‹div\n",
    "className={'${styles.chatMessage} ${\n",
    "message.role === \"user' ? styles.userMessage : styles. assistantMessage\n",
    ">\n",
    "{message.role === \"user\" ? ( message. content\n",
    ") : (\n",
    "<div dangerouslySetInnerTML={{ __html: message.content }} />\n",
    "< div> {subgraphResults && (\n",
    "‹div className=<styles.subgraphMessage}>\n",
    "<SubgraphResults results={subgraphResults} /> < div>\n",
    "{showChart && (\n",
    "<div className={styles.chartContainer}>\n",
    "<StockChart data=<stockData? /> < div>\n",
    "</React .Fragment>\n",
    "))}\n",
    "< div>\n",
    "{isProcessing && <DynamicProgressBar currentStep={currentStep} />} <form onSubmit={handleChatSubmit} className={styles.chatInput}>"
   ]
  }
 ],
 "metadata": {
  "kernelspec": {
   "display_name": "base_env",
   "language": "python",
   "name": "python3"
  },
  "language_info": {
   "codemirror_mode": {
    "name": "ipython",
    "version": 3
   },
   "file_extension": ".py",
   "mimetype": "text/x-python",
   "name": "python",
   "nbconvert_exporter": "python",
   "pygments_lexer": "ipython3",
   "version": "3.8.16"
  }
 },
 "nbformat": 4,
 "nbformat_minor": 2
}
