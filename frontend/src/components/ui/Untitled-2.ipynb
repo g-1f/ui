{
 "cells": [
  {
   "cell_type": "code",
   "execution_count": 5,
   "metadata": {},
   "outputs": [],
   "source": [
    "query_expansion_prompt = ChatPromptTemplate.from_template(\"\"\"\n",
    "You are an AI assistant specialized in financial analysis and query expansion. Your task is to expand queries about public companies to include thoughtful information about their related entities based on the provided graph results.\n",
    "\n",
    "Given:\n",
    "- Original query: {query}\n",
    "- Graph results: {graph_results}\n",
    "\n",
    "Follow these steps to expand the query:\n",
    "\n",
    "1. Analyze the original query to understand the main focus and intent.\n",
    "2. Review the graph results to identify the related entities (suppliers and consumers) and their relationships to the main company.\n",
    "3. For each related ticker in the graph results, generate one thoughtful, expanded query that:\n",
    "   - Combines information about the ticker's performance and its impact on the main company\n",
    "   - Considers both supplier and consumer relationships, if applicable\n",
    "   - Relates to the context of the original query\n",
    "4. Ensure each expanded query adds significant value and explores a unique aspect of the relationship between the related ticker and the main company.\n",
    "\n",
    "Example thought process:\n",
    "Original query: \"What's the earnings for Apple last quarter? What about its suppliers? What is their impact on Apple's business?\"\n",
    "Graph results: \"Suppliers: ['qrvo', 'mu'].\"\n",
    "\n",
    "1. The query focuses on Apple's earnings and its suppliers' impact.\n",
    "2. I'll generate one thoughtful query for each supplier, combining their performance and impact on Apple.\n",
    "3. The query doesn't mention consumers, so I won't include them in this expansion.\n",
    "\n",
    "Expanded queries:\n",
    "1. How did QRVO's chip production and financial performance in the last quarter influence Apple's supply chain efficiency and overall earnings, particularly in relation to smartphone component costs?\n",
    "2. In what ways did MU's memory supply and pricing strategies affect Apple's product lineup and profit margins last quarter, and how might this impact Apple's future inventory management?\n",
    "\n",
    "Now, please expand the given query following this thought process, ensuring each expanded query provides a comprehensive view of the relationship between the related ticker and the main company.\n",
    "\"\"\")"
   ]
  },
  {
   "cell_type": "code",
   "execution_count": null,
   "metadata": {},
   "outputs": [],
   "source": []
  },
  {
   "cell_type": "code",
   "execution_count": null,
   "metadata": {},
   "outputs": [],
   "source": []
  }
 ],
 "metadata": {
  "kernelspec": {
   "display_name": "base_env",
   "language": "python",
   "name": "python3"
  },
  "language_info": {
   "codemirror_mode": {
    "name": "ipython",
    "version": 3
   },
   "file_extension": ".py",
   "mimetype": "text/x-python",
   "name": "python",
   "nbconvert_exporter": "python",
   "pygments_lexer": "ipython3",
   "version": "3.8.16"
  }
 },
 "nbformat": 4,
 "nbformat_minor": 2
}
