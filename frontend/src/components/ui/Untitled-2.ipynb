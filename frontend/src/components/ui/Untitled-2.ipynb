{
 "cells": [
  {
   "cell_type": "code",
   "execution_count": 6,
   "metadata": {},
   "outputs": [
    {
     "ename": "ModuleNotFoundError",
     "evalue": "No module named 'streamlit'",
     "output_type": "error",
     "traceback": [
      "\u001b[0;31m---------------------------------------------------------------------------\u001b[0m",
      "\u001b[0;31mModuleNotFoundError\u001b[0m                       Traceback (most recent call last)",
      "Input \u001b[0;32mIn [6]\u001b[0m, in \u001b[0;36m<module>\u001b[0;34m\u001b[0m\n\u001b[0;32m----> 1\u001b[0m \u001b[38;5;28;01mimport\u001b[39;00m \u001b[38;5;21;01mstreamlit\u001b[39;00m \u001b[38;5;28;01mas\u001b[39;00m \u001b[38;5;21;01mst\u001b[39;00m\n\u001b[1;32m      2\u001b[0m \u001b[38;5;28;01mimport\u001b[39;00m \u001b[38;5;21;01masyncio\u001b[39;00m\n\u001b[1;32m      3\u001b[0m \u001b[38;5;28;01mimport\u001b[39;00m \u001b[38;5;21;01msys\u001b[39;00m\n",
      "\u001b[0;31mModuleNotFoundError\u001b[0m: No module named 'streamlit'"
     ]
    }
   ],
   "source": [
    "  return (\n",
    "    <div className={styles.container}>\n",
    "      <div className={styles.actionBar}>\n",
    "        <div className={styles.actionContent}>\n",
    "          <div style={{ display: \"flex\", alignItems: \"center\" }}>\n",
    "            <div className={styles.iconWrapper}>\n",
    "              <FluentIcons.MailTemplate24Regular />\n",
    "            </div>\n",
    "            <Text className={styles.actionTitle}>Email Actions</Text>\n",
    "          </div>\n",
    "          <Text className={styles.actionDescription}>Select an action to perform on your email.</Text>\n",
    "          {selectedAction && selectedAction.requiresInput && (\n",
    "            <>\n",
    "              <Text className={styles.actionDescription}>{selectedAction.description}</Text>\n",
    "              <textarea\n",
    "                className={styles.input}\n",
    "                placeholder=\"Enter any additional instructions here...\"\n",
    "                value={inputValue}\n",
    "                onChange={(e) => setInputValue(e.target.value)}\n",
    "              />\n",
    "            </>\n",
    "          )}\n",
    "          <div className={styles.buttonContainer}>\n",
    "            {buttonConfig.map((action, index) => (\n",
    "              <Button\n",
    "                key={index}\n",
    "                appearance={selectedAction === action ? \"primary\" : \"secondary\"}\n",
    "                onClick={() => handleButtonClick(action)}\n",
    "                disabled={isProcessing || (selectedAction && selectedAction !== action)}\n",
    "              >\n",
    "                {action.label}\n",
    "              </Button>\n",
    "            ))}\n",
    "            {selectedAction && selectedAction.requiresInput && (\n",
    "              <Button\n",
    "                appearance=\"primary\"\n",
    "                onClick={() => handleAction(selectedAction, inputValue)}\n",
    "                disabled={isProcessing || !inputValue.trim()}\n",
    "              >\n",
    "                Submit\n",
    "              </Button>\n",
    "            )}\n",
    "          </div>\n",
    "        </div>\n",
    "      </div>\n",
    "      <div className={styles.statusContainer}>\n",
    "        {isProcessing && (\n",
    "          <div className={styles.statusMessage}>\n",
    "            <Spinner size=\"tiny\" />\n",
    "            <span style={{ marginLeft: '8px' }}>Processing your request...</span>\n",
    "          </div>\n",
    "        )}\n",
    "        {statusMessage && (\n",
    "          <div className={`${styles.statusMessage} ${styles.successMessage}`}>\n",
    "            <div>{statusMessage.text}</div>\n",
    "          </div>\n",
    "        )}\n",
    "        {error && (\n",
    "          <div className={`${styles.statusMessage} ${styles.errorMessage}`}>\n",
    "            {error}\n",
    "          </div>\n",
    "        )}\n",
    "      </div>\n",
    "      {generatedResponse && (\n",
    "        <div className={styles.responseContainer}>\n",
    "          <Text className={styles.responseText}>{generatedResponse}</Text>\n",
    "        </div>\n",
    "      )}\n",
    "    </div>\n",
    "  );\n",
    "};\n",
    "\n",
    "export default EmailGenerator;"
   ]
  },
  {
   "cell_type": "code",
   "execution_count": null,
   "metadata": {},
   "outputs": [],
   "source": []
  }
 ],
 "metadata": {
  "kernelspec": {
   "display_name": "base_env",
   "language": "python",
   "name": "python3"
  },
  "language_info": {
   "codemirror_mode": {
    "name": "ipython",
    "version": 3
   },
   "file_extension": ".py",
   "mimetype": "text/x-python",
   "name": "python",
   "nbconvert_exporter": "python",
   "pygments_lexer": "ipython3",
   "version": "3.8.16"
  }
 },
 "nbformat": 4,
 "nbformat_minor": 2
}
