{
 "cells": [
  {
   "cell_type": "code",
   "execution_count": null,
   "metadata": {},
   "outputs": [],
   "source": [
    "%%{init: {'theme': 'forest'}}%%\n",
    "graph TD\n",
    "    A[Initial Query] --> B{Graph DB Router}\n",
    "    B -->|Use Graph DB| C[Query Graph DB]\n",
    "    C --> D[Expand Queries]\n",
    "    D --> E[Subgraph Router]\n",
    "    B -->|Skip Graph DB| F[Refine Query]\n",
    "    F --> E\n",
    "    \n",
    "    E --> G[ECT Subgraph]\n",
    "    E --> H[AC Subgraph]\n",
    "    E --> I[... More Subgraphs]\n",
    "    \n",
    "    G & H & I --> J[Result Aggregation]\n",
    "    J --> K[Final Response Generation]\n",
    "    \n",
    "    style A fill:#f9f,stroke:#333,stroke-width:2px\n",
    "    style B fill:#bbf,stroke:#f66,stroke-width:2px,color:#fff\n",
    "    style C fill:#bfe,stroke:#333,stroke-width:2px\n",
    "    style D fill:#bfe,stroke:#333,stroke-width:2px\n",
    "    style E fill:#fbb,stroke:#666,stroke-width:2px\n",
    "    style F fill:#feb,stroke:#333,stroke-width:2px\n",
    "    style G fill:#e0e0e0,stroke:#999,stroke-width:2px\n",
    "    style H fill:#e0e0e0,stroke:#999,stroke-width:2px\n",
    "    style I fill:#e0e0e0,stroke:#999,stroke-width:2px\n",
    "    style J fill:#bfb,stroke:#333,stroke-width:2px\n",
    "    style K fill:#f9f,stroke:#333,stroke-width:2px\n",
    "    \n",
    "    %% Edge styles\n",
    "    linkStyle 1 stroke:#0f0,stroke-width:2px;\n",
    "    linkStyle 2 stroke:#0f0,stroke-width:2px;\n",
    "    linkStyle 3 stroke:#0f0,stroke-width:2px;\n",
    "    linkStyle 4 stroke:#f90,stroke-width:2px;\n",
    "    linkStyle 5 stroke:#f90,stroke-width:2px;"
   ]
  }
 ],
 "metadata": {
  "kernelspec": {
   "display_name": "base_env",
   "language": "python",
   "name": "python3"
  },
  "language_info": {
   "codemirror_mode": {
    "name": "ipython",
    "version": 3
   },
   "file_extension": ".py",
   "mimetype": "text/x-python",
   "name": "python",
   "nbconvert_exporter": "python",
   "pygments_lexer": "ipython3",
   "version": "3.8.16"
  }
 },
 "nbformat": 4,
 "nbformat_minor": 2
}
